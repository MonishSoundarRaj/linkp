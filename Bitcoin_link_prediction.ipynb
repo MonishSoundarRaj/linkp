{
  "cells": [
    {
      "cell_type": "markdown",
      "metadata": {
        "id": "VrmsUBadEffp"
      },
      "source": [
        "# Link prediction with Continuous-Time Dynamic Network Embeddings (CTDNE)\n"
      ]
    },
    {
      "cell_type": "markdown",
      "metadata": {
        "id": "w8c_mBToEffx"
      },
      "source": [
        "\n",
        "Reference Paper: http://ryanrossi.com/pubs/nguyen-et-al-WWW18-BigNet.pdf\n",
        "\n",
        "This is a demo of StellarGraph's implementation of Continuous-Time Dynamic Network Embeddings. The steps outlined in this notebook show how time respecting random walks can be obtained from a graph containing time information on edges, and how these walks can be used to generate network embeddings for a link prediction task.\n",
        "\n",
        "We compare the embeddings learnt from temporal walks with non-temporal walks in this demo."
      ]
    },
    {
      "cell_type": "code",
      "execution_count": 3,
      "metadata": {
        "id": "UIvIZUMtEffy",
        "nbsphinx": "hidden",
        "tags": [
          "CloudRunner"
        ]
      },
      "outputs": [
        {
          "name": "stdout",
          "output_type": "stream",
          "text": [
            "Collecting stellargraph\n",
            "  Downloading stellargraph-1.2.1-py3-none-any.whl.metadata (23 kB)\n",
            "Collecting tensorflow>=2.1.0 (from stellargraph)\n",
            "  Downloading tensorflow-2.11.0-cp37-cp37m-win_amd64.whl.metadata (2.5 kB)\n",
            "Collecting numpy>=1.14 (from stellargraph)\n",
            "  Downloading numpy-1.21.6-cp37-cp37m-win_amd64.whl.metadata (2.2 kB)\n",
            "Collecting scipy>=1.1.0 (from stellargraph)\n",
            "  Downloading scipy-1.7.3-cp37-cp37m-win_amd64.whl.metadata (2.2 kB)\n",
            "Collecting networkx>=2.2 (from stellargraph)\n",
            "  Downloading networkx-2.6.3-py3-none-any.whl.metadata (5.0 kB)\n",
            "Collecting scikit-learn>=0.20 (from stellargraph)\n",
            "  Downloading scikit_learn-1.0.2-cp37-cp37m-win_amd64.whl.metadata (10 kB)\n",
            "Collecting matplotlib>=2.2 (from stellargraph)\n",
            "  Downloading matplotlib-3.5.3-cp37-cp37m-win_amd64.whl.metadata (6.7 kB)\n",
            "Collecting gensim>=3.4.0 (from stellargraph)\n",
            "  Downloading gensim-4.2.0-cp37-cp37m-win_amd64.whl.metadata (8.6 kB)\n",
            "Collecting pandas>=0.24 (from stellargraph)\n",
            "  Downloading pandas-1.3.5-cp37-cp37m-win_amd64.whl.metadata (12 kB)\n",
            "Collecting smart-open>=1.8.1 (from gensim>=3.4.0->stellargraph)\n",
            "  Downloading smart_open-7.0.4-py3-none-any.whl.metadata (23 kB)\n",
            "Collecting Cython==0.29.28 (from gensim>=3.4.0->stellargraph)\n",
            "  Downloading Cython-0.29.28-py2.py3-none-any.whl.metadata (2.8 kB)\n",
            "Collecting cycler>=0.10 (from matplotlib>=2.2->stellargraph)\n",
            "  Downloading cycler-0.11.0-py3-none-any.whl.metadata (785 bytes)\n",
            "Collecting fonttools>=4.22.0 (from matplotlib>=2.2->stellargraph)\n",
            "  Downloading fonttools-4.38.0-py3-none-any.whl.metadata (138 kB)\n",
            "     -------------------------------------- 138.5/138.5 kB 2.1 MB/s eta 0:00:00\n",
            "Collecting kiwisolver>=1.0.1 (from matplotlib>=2.2->stellargraph)\n",
            "  Downloading kiwisolver-1.4.5-cp37-cp37m-win_amd64.whl.metadata (6.5 kB)\n",
            "Requirement already satisfied: packaging>=20.0 in c:\\users\\monis\\anaconda3\\envs\\myenv\\lib\\site-packages (from matplotlib>=2.2->stellargraph) (24.0)\n",
            "Collecting pillow>=6.2.0 (from matplotlib>=2.2->stellargraph)\n",
            "  Downloading Pillow-9.5.0-cp37-cp37m-win_amd64.whl.metadata (9.7 kB)\n",
            "Collecting pyparsing>=2.2.1 (from matplotlib>=2.2->stellargraph)\n",
            "  Using cached pyparsing-3.1.2-py3-none-any.whl.metadata (5.1 kB)\n",
            "Requirement already satisfied: python-dateutil>=2.7 in c:\\users\\monis\\anaconda3\\envs\\myenv\\lib\\site-packages (from matplotlib>=2.2->stellargraph) (2.9.0.post0)\n",
            "Collecting pytz>=2017.3 (from pandas>=0.24->stellargraph)\n",
            "  Using cached pytz-2024.1-py2.py3-none-any.whl.metadata (22 kB)\n",
            "Collecting joblib>=0.11 (from scikit-learn>=0.20->stellargraph)\n",
            "  Using cached joblib-1.3.2-py3-none-any.whl.metadata (5.4 kB)\n",
            "Collecting threadpoolctl>=2.0.0 (from scikit-learn>=0.20->stellargraph)\n",
            "  Downloading threadpoolctl-3.1.0-py3-none-any.whl.metadata (9.2 kB)\n",
            "Collecting tensorflow-intel==2.11.0 (from tensorflow>=2.1.0->stellargraph)\n",
            "  Downloading tensorflow_intel-2.11.0-cp37-cp37m-win_amd64.whl.metadata (3.9 kB)\n",
            "Collecting absl-py>=1.0.0 (from tensorflow-intel==2.11.0->tensorflow>=2.1.0->stellargraph)\n",
            "  Downloading absl_py-2.1.0-py3-none-any.whl.metadata (2.3 kB)\n",
            "Collecting astunparse>=1.6.0 (from tensorflow-intel==2.11.0->tensorflow>=2.1.0->stellargraph)\n",
            "  Downloading astunparse-1.6.3-py2.py3-none-any.whl.metadata (4.4 kB)\n",
            "Collecting flatbuffers>=2.0 (from tensorflow-intel==2.11.0->tensorflow>=2.1.0->stellargraph)\n",
            "  Downloading flatbuffers-24.3.25-py2.py3-none-any.whl.metadata (850 bytes)\n",
            "Collecting gast<=0.4.0,>=0.2.1 (from tensorflow-intel==2.11.0->tensorflow>=2.1.0->stellargraph)\n",
            "  Downloading gast-0.4.0-py3-none-any.whl.metadata (1.1 kB)\n",
            "Collecting google-pasta>=0.1.1 (from tensorflow-intel==2.11.0->tensorflow>=2.1.0->stellargraph)\n",
            "  Downloading google_pasta-0.2.0-py3-none-any.whl.metadata (814 bytes)\n",
            "Collecting h5py>=2.9.0 (from tensorflow-intel==2.11.0->tensorflow>=2.1.0->stellargraph)\n",
            "  Downloading h5py-3.8.0-cp37-cp37m-win_amd64.whl.metadata (2.5 kB)\n",
            "Collecting libclang>=13.0.0 (from tensorflow-intel==2.11.0->tensorflow>=2.1.0->stellargraph)\n",
            "  Downloading libclang-18.1.1-py2.py3-none-win_amd64.whl.metadata (5.3 kB)\n",
            "Collecting opt-einsum>=2.3.2 (from tensorflow-intel==2.11.0->tensorflow>=2.1.0->stellargraph)\n",
            "  Downloading opt_einsum-3.3.0-py3-none-any.whl.metadata (6.5 kB)\n",
            "Collecting protobuf<3.20,>=3.9.2 (from tensorflow-intel==2.11.0->tensorflow>=2.1.0->stellargraph)\n",
            "  Downloading protobuf-3.19.6-cp37-cp37m-win_amd64.whl.metadata (807 bytes)\n",
            "Requirement already satisfied: setuptools in c:\\users\\monis\\anaconda3\\envs\\myenv\\lib\\site-packages (from tensorflow-intel==2.11.0->tensorflow>=2.1.0->stellargraph) (65.6.3)\n",
            "Requirement already satisfied: six>=1.12.0 in c:\\users\\monis\\anaconda3\\envs\\myenv\\lib\\site-packages (from tensorflow-intel==2.11.0->tensorflow>=2.1.0->stellargraph) (1.16.0)\n",
            "Collecting termcolor>=1.1.0 (from tensorflow-intel==2.11.0->tensorflow>=2.1.0->stellargraph)\n",
            "  Downloading termcolor-2.3.0-py3-none-any.whl.metadata (5.3 kB)\n",
            "Collecting typing-extensions>=3.6.6 (from tensorflow-intel==2.11.0->tensorflow>=2.1.0->stellargraph)\n",
            "  Downloading typing_extensions-4.7.1-py3-none-any.whl.metadata (3.1 kB)\n",
            "Collecting wrapt>=1.11.0 (from tensorflow-intel==2.11.0->tensorflow>=2.1.0->stellargraph)\n",
            "  Downloading wrapt-1.16.0-cp37-cp37m-win_amd64.whl.metadata (6.8 kB)\n",
            "Collecting grpcio<2.0,>=1.24.3 (from tensorflow-intel==2.11.0->tensorflow>=2.1.0->stellargraph)\n",
            "  Downloading grpcio-1.62.2-cp37-cp37m-win_amd64.whl.metadata (4.2 kB)\n",
            "Collecting tensorboard<2.12,>=2.11 (from tensorflow-intel==2.11.0->tensorflow>=2.1.0->stellargraph)\n",
            "  Downloading tensorboard-2.11.2-py3-none-any.whl.metadata (1.9 kB)\n",
            "Collecting tensorflow-estimator<2.12,>=2.11.0 (from tensorflow-intel==2.11.0->tensorflow>=2.1.0->stellargraph)\n",
            "  Downloading tensorflow_estimator-2.11.0-py2.py3-none-any.whl.metadata (1.3 kB)\n",
            "Collecting keras<2.12,>=2.11.0 (from tensorflow-intel==2.11.0->tensorflow>=2.1.0->stellargraph)\n",
            "  Downloading keras-2.11.0-py2.py3-none-any.whl.metadata (1.4 kB)\n",
            "Collecting tensorflow-io-gcs-filesystem>=0.23.1 (from tensorflow-intel==2.11.0->tensorflow>=2.1.0->stellargraph)\n",
            "  Downloading tensorflow_io_gcs_filesystem-0.31.0-cp37-cp37m-win_amd64.whl.metadata (14 kB)\n",
            "Requirement already satisfied: wheel<1.0,>=0.23.0 in c:\\users\\monis\\anaconda3\\envs\\myenv\\lib\\site-packages (from astunparse>=1.6.0->tensorflow-intel==2.11.0->tensorflow>=2.1.0->stellargraph) (0.34.2)\n",
            "Collecting google-auth<3,>=1.6.3 (from tensorboard<2.12,>=2.11->tensorflow-intel==2.11.0->tensorflow>=2.1.0->stellargraph)\n",
            "  Downloading google_auth-2.32.0-py2.py3-none-any.whl.metadata (4.7 kB)\n",
            "Collecting google-auth-oauthlib<0.5,>=0.4.1 (from tensorboard<2.12,>=2.11->tensorflow-intel==2.11.0->tensorflow>=2.1.0->stellargraph)\n",
            "  Downloading google_auth_oauthlib-0.4.6-py2.py3-none-any.whl.metadata (2.7 kB)\n",
            "Collecting markdown>=2.6.8 (from tensorboard<2.12,>=2.11->tensorflow-intel==2.11.0->tensorflow>=2.1.0->stellargraph)\n",
            "  Downloading Markdown-3.4.4-py3-none-any.whl.metadata (6.9 kB)\n",
            "Collecting requests<3,>=2.21.0 (from tensorboard<2.12,>=2.11->tensorflow-intel==2.11.0->tensorflow>=2.1.0->stellargraph)\n",
            "  Using cached requests-2.31.0-py3-none-any.whl.metadata (4.6 kB)\n",
            "Collecting tensorboard-data-server<0.7.0,>=0.6.0 (from tensorboard<2.12,>=2.11->tensorflow-intel==2.11.0->tensorflow>=2.1.0->stellargraph)\n",
            "  Downloading tensorboard_data_server-0.6.1-py3-none-any.whl.metadata (1.1 kB)\n",
            "Collecting tensorboard-plugin-wit>=1.6.0 (from tensorboard<2.12,>=2.11->tensorflow-intel==2.11.0->tensorflow>=2.1.0->stellargraph)\n",
            "  Downloading tensorboard_plugin_wit-1.8.1-py3-none-any.whl.metadata (873 bytes)\n",
            "Collecting werkzeug>=1.0.1 (from tensorboard<2.12,>=2.11->tensorflow-intel==2.11.0->tensorflow>=2.1.0->stellargraph)\n",
            "  Downloading Werkzeug-2.2.3-py3-none-any.whl.metadata (4.4 kB)\n",
            "Collecting cachetools<6.0,>=2.0.0 (from google-auth<3,>=1.6.3->tensorboard<2.12,>=2.11->tensorflow-intel==2.11.0->tensorflow>=2.1.0->stellargraph)\n",
            "  Downloading cachetools-5.4.0-py3-none-any.whl.metadata (5.3 kB)\n",
            "Collecting pyasn1-modules>=0.2.1 (from google-auth<3,>=1.6.3->tensorboard<2.12,>=2.11->tensorflow-intel==2.11.0->tensorflow>=2.1.0->stellargraph)\n",
            "  Downloading pyasn1_modules-0.3.0-py2.py3-none-any.whl.metadata (3.6 kB)\n",
            "Collecting rsa<5,>=3.1.4 (from google-auth<3,>=1.6.3->tensorboard<2.12,>=2.11->tensorflow-intel==2.11.0->tensorflow>=2.1.0->stellargraph)\n",
            "  Downloading rsa-4.9-py3-none-any.whl.metadata (4.2 kB)\n",
            "Collecting requests-oauthlib>=0.7.0 (from google-auth-oauthlib<0.5,>=0.4.1->tensorboard<2.12,>=2.11->tensorflow-intel==2.11.0->tensorflow>=2.1.0->stellargraph)\n",
            "  Downloading requests_oauthlib-2.0.0-py2.py3-none-any.whl.metadata (11 kB)\n",
            "Collecting importlib-metadata>=4.4 (from markdown>=2.6.8->tensorboard<2.12,>=2.11->tensorflow-intel==2.11.0->tensorflow>=2.1.0->stellargraph)\n",
            "  Downloading importlib_metadata-6.7.0-py3-none-any.whl.metadata (4.9 kB)\n",
            "Collecting charset-normalizer<4,>=2 (from requests<3,>=2.21.0->tensorboard<2.12,>=2.11->tensorflow-intel==2.11.0->tensorflow>=2.1.0->stellargraph)\n",
            "  Downloading charset_normalizer-3.3.2-cp37-cp37m-win_amd64.whl.metadata (34 kB)\n",
            "Collecting idna<4,>=2.5 (from requests<3,>=2.21.0->tensorboard<2.12,>=2.11->tensorflow-intel==2.11.0->tensorflow>=2.1.0->stellargraph)\n",
            "  Downloading idna-3.7-py3-none-any.whl.metadata (9.9 kB)\n",
            "Collecting urllib3<3,>=1.21.1 (from requests<3,>=2.21.0->tensorboard<2.12,>=2.11->tensorflow-intel==2.11.0->tensorflow>=2.1.0->stellargraph)\n",
            "  Using cached urllib3-2.0.7-py3-none-any.whl.metadata (6.6 kB)\n",
            "Collecting certifi>=2017.4.17 (from requests<3,>=2.21.0->tensorboard<2.12,>=2.11->tensorflow-intel==2.11.0->tensorflow>=2.1.0->stellargraph)\n",
            "  Downloading certifi-2024.7.4-py3-none-any.whl.metadata (2.2 kB)\n",
            "Collecting MarkupSafe>=2.1.1 (from werkzeug>=1.0.1->tensorboard<2.12,>=2.11->tensorflow-intel==2.11.0->tensorflow>=2.1.0->stellargraph)\n",
            "  Downloading MarkupSafe-2.1.5-cp37-cp37m-win_amd64.whl.metadata (3.1 kB)\n",
            "Collecting zipp>=0.5 (from importlib-metadata>=4.4->markdown>=2.6.8->tensorboard<2.12,>=2.11->tensorflow-intel==2.11.0->tensorflow>=2.1.0->stellargraph)\n",
            "  Downloading zipp-3.15.0-py3-none-any.whl.metadata (3.7 kB)\n",
            "Collecting pyasn1<0.6.0,>=0.4.6 (from pyasn1-modules>=0.2.1->google-auth<3,>=1.6.3->tensorboard<2.12,>=2.11->tensorflow-intel==2.11.0->tensorflow>=2.1.0->stellargraph)\n",
            "  Using cached pyasn1-0.5.1-py2.py3-none-any.whl.metadata (8.6 kB)\n",
            "Collecting oauthlib>=3.0.0 (from requests-oauthlib>=0.7.0->google-auth-oauthlib<0.5,>=0.4.1->tensorboard<2.12,>=2.11->tensorflow-intel==2.11.0->tensorflow>=2.1.0->stellargraph)\n",
            "  Downloading oauthlib-3.2.2-py3-none-any.whl.metadata (7.5 kB)\n",
            "Downloading stellargraph-1.2.1-py3-none-any.whl (435 kB)\n",
            "   ---------------------------------------- 435.2/435.2 kB 6.9 MB/s eta 0:00:00\n",
            "Downloading gensim-4.2.0-cp37-cp37m-win_amd64.whl (24.0 MB)\n",
            "   ---------------------------------------- 24.0/24.0 MB 15.6 MB/s eta 0:00:00\n",
            "Downloading Cython-0.29.28-py2.py3-none-any.whl (983 kB)\n",
            "   --------------------------------------- 983.8/983.8 kB 12.3 MB/s eta 0:00:00\n",
            "Downloading matplotlib-3.5.3-cp37-cp37m-win_amd64.whl (7.2 MB)\n",
            "   ---------------------------------------- 7.2/7.2 MB 17.0 MB/s eta 0:00:00\n",
            "Downloading networkx-2.6.3-py3-none-any.whl (1.9 MB)\n",
            "   ---------------------------------------- 1.9/1.9 MB 15.3 MB/s eta 0:00:00\n",
            "Downloading numpy-1.21.6-cp37-cp37m-win_amd64.whl (14.0 MB)\n",
            "   ---------------------------------------- 14.0/14.0 MB 16.4 MB/s eta 0:00:00\n",
            "Downloading pandas-1.3.5-cp37-cp37m-win_amd64.whl (10.0 MB)\n",
            "   ---------------------------------------- 10.0/10.0 MB 17.7 MB/s eta 0:00:00\n",
            "Downloading scikit_learn-1.0.2-cp37-cp37m-win_amd64.whl (7.1 MB)\n",
            "   ---------------------------------------- 7.1/7.1 MB 16.9 MB/s eta 0:00:00\n",
            "Downloading scipy-1.7.3-cp37-cp37m-win_amd64.whl (34.1 MB)\n",
            "   ---------------------------------------- 34.1/34.1 MB 16.4 MB/s eta 0:00:00\n",
            "Downloading tensorflow-2.11.0-cp37-cp37m-win_amd64.whl (1.9 kB)\n",
            "Downloading tensorflow_intel-2.11.0-cp37-cp37m-win_amd64.whl (266.3 MB)\n",
            "   ---------------------------------------- 266.3/266.3 MB 2.8 MB/s eta 0:00:00\n",
            "Downloading cycler-0.11.0-py3-none-any.whl (6.4 kB)\n",
            "Downloading fonttools-4.38.0-py3-none-any.whl (965 kB)\n",
            "   --------------------------------------- 965.4/965.4 kB 15.2 MB/s eta 0:00:00\n",
            "Using cached joblib-1.3.2-py3-none-any.whl (302 kB)\n",
            "Downloading kiwisolver-1.4.5-cp37-cp37m-win_amd64.whl (55 kB)\n",
            "   ---------------------------------------- 55.8/55.8 kB 1.5 MB/s eta 0:00:00\n",
            "Downloading Pillow-9.5.0-cp37-cp37m-win_amd64.whl (2.5 MB)\n",
            "   ---------------------------------------- 2.5/2.5 MB 14.8 MB/s eta 0:00:00\n",
            "Using cached pyparsing-3.1.2-py3-none-any.whl (103 kB)\n",
            "Using cached pytz-2024.1-py2.py3-none-any.whl (505 kB)\n",
            "Downloading smart_open-7.0.4-py3-none-any.whl (61 kB)\n",
            "   ---------------------------------------- 61.2/61.2 kB 3.4 MB/s eta 0:00:00\n",
            "Downloading threadpoolctl-3.1.0-py3-none-any.whl (14 kB)\n",
            "Downloading absl_py-2.1.0-py3-none-any.whl (133 kB)\n",
            "   ---------------------------------------- 133.7/133.7 kB 8.2 MB/s eta 0:00:00\n",
            "Using cached astunparse-1.6.3-py2.py3-none-any.whl (12 kB)\n",
            "Downloading flatbuffers-24.3.25-py2.py3-none-any.whl (26 kB)\n",
            "Using cached gast-0.4.0-py3-none-any.whl (9.8 kB)\n",
            "Using cached google_pasta-0.2.0-py3-none-any.whl (57 kB)\n",
            "Downloading grpcio-1.62.2-cp37-cp37m-win_amd64.whl (4.5 MB)\n",
            "   ---------------------------------------- 4.5/4.5 MB 16.9 MB/s eta 0:00:00\n",
            "Downloading h5py-3.8.0-cp37-cp37m-win_amd64.whl (2.6 MB)\n",
            "   ---------------------------------------- 2.6/2.6 MB 15.2 MB/s eta 0:00:00\n",
            "Using cached keras-2.11.0-py2.py3-none-any.whl (1.7 MB)\n",
            "Downloading libclang-18.1.1-py2.py3-none-win_amd64.whl (26.4 MB)\n",
            "   ---------------------------------------- 26.4/26.4 MB 13.1 MB/s eta 0:00:00\n",
            "Using cached opt_einsum-3.3.0-py3-none-any.whl (65 kB)\n",
            "Downloading protobuf-3.19.6-cp37-cp37m-win_amd64.whl (896 kB)\n",
            "   --------------------------------------- 896.6/896.6 kB 14.3 MB/s eta 0:00:00\n",
            "Using cached tensorboard-2.11.2-py3-none-any.whl (6.0 MB)\n",
            "Using cached tensorflow_estimator-2.11.0-py2.py3-none-any.whl (439 kB)\n",
            "Downloading tensorflow_io_gcs_filesystem-0.31.0-cp37-cp37m-win_amd64.whl (1.5 MB)\n",
            "   ---------------------------------------- 1.5/1.5 MB 18.9 MB/s eta 0:00:00\n",
            "Using cached termcolor-2.3.0-py3-none-any.whl (6.9 kB)\n",
            "Downloading typing_extensions-4.7.1-py3-none-any.whl (33 kB)\n",
            "Downloading wrapt-1.16.0-cp37-cp37m-win_amd64.whl (37 kB)\n",
            "Downloading google_auth-2.32.0-py2.py3-none-any.whl (195 kB)\n",
            "   ---------------------------------------- 195.5/195.5 kB 3.9 MB/s eta 0:00:00\n",
            "Using cached google_auth_oauthlib-0.4.6-py2.py3-none-any.whl (18 kB)\n",
            "Downloading Markdown-3.4.4-py3-none-any.whl (94 kB)\n",
            "   ---------------------------------------- 94.2/94.2 kB 2.6 MB/s eta 0:00:00\n",
            "Using cached requests-2.31.0-py3-none-any.whl (62 kB)\n",
            "Using cached tensorboard_data_server-0.6.1-py3-none-any.whl (2.4 kB)\n",
            "Using cached tensorboard_plugin_wit-1.8.1-py3-none-any.whl (781 kB)\n",
            "Downloading Werkzeug-2.2.3-py3-none-any.whl (233 kB)\n",
            "   ---------------------------------------- 233.6/233.6 kB 7.2 MB/s eta 0:00:00\n",
            "Downloading cachetools-5.4.0-py3-none-any.whl (9.5 kB)\n",
            "Downloading certifi-2024.7.4-py3-none-any.whl (162 kB)\n",
            "   ---------------------------------------- 163.0/163.0 kB 4.9 MB/s eta 0:00:00\n",
            "Downloading charset_normalizer-3.3.2-cp37-cp37m-win_amd64.whl (98 kB)\n",
            "   ---------------------------------------- 98.1/98.1 kB 2.8 MB/s eta 0:00:00\n",
            "Downloading idna-3.7-py3-none-any.whl (66 kB)\n",
            "   ---------------------------------------- 66.8/66.8 kB 3.5 MB/s eta 0:00:00\n",
            "Downloading importlib_metadata-6.7.0-py3-none-any.whl (22 kB)\n",
            "Downloading MarkupSafe-2.1.5-cp37-cp37m-win_amd64.whl (17 kB)\n",
            "Using cached pyasn1_modules-0.3.0-py2.py3-none-any.whl (181 kB)\n",
            "Downloading requests_oauthlib-2.0.0-py2.py3-none-any.whl (24 kB)\n",
            "Using cached rsa-4.9-py3-none-any.whl (34 kB)\n",
            "Using cached urllib3-2.0.7-py3-none-any.whl (124 kB)\n",
            "Using cached oauthlib-3.2.2-py3-none-any.whl (151 kB)\n",
            "Using cached pyasn1-0.5.1-py2.py3-none-any.whl (84 kB)\n",
            "Downloading zipp-3.15.0-py3-none-any.whl (6.8 kB)\n",
            "Installing collected packages: tensorboard-plugin-wit, pytz, libclang, flatbuffers, zipp, wrapt, urllib3, typing-extensions, threadpoolctl, termcolor, tensorflow-io-gcs-filesystem, tensorflow-estimator, tensorboard-data-server, pyparsing, pyasn1, protobuf, pillow, oauthlib, numpy, networkx, MarkupSafe, keras, joblib, idna, grpcio, google-pasta, gast, fonttools, Cython, cycler, charset-normalizer, certifi, cachetools, astunparse, absl-py, werkzeug, smart-open, scipy, rsa, requests, pyasn1-modules, pandas, opt-einsum, kiwisolver, importlib-metadata, h5py, scikit-learn, requests-oauthlib, matplotlib, markdown, google-auth, gensim, google-auth-oauthlib, tensorboard, tensorflow-intel, tensorflow, stellargraph\n",
            "Successfully installed Cython-0.29.28 MarkupSafe-2.1.5 absl-py-2.1.0 astunparse-1.6.3 cachetools-5.4.0 certifi-2024.7.4 charset-normalizer-3.3.2 cycler-0.11.0 flatbuffers-24.3.25 fonttools-4.38.0 gast-0.4.0 gensim-4.2.0 google-auth-2.32.0 google-auth-oauthlib-0.4.6 google-pasta-0.2.0 grpcio-1.62.2 h5py-3.8.0 idna-3.7 importlib-metadata-6.7.0 joblib-1.3.2 keras-2.11.0 kiwisolver-1.4.5 libclang-18.1.1 markdown-3.4.4 matplotlib-3.5.3 networkx-2.6.3 numpy-1.21.6 oauthlib-3.2.2 opt-einsum-3.3.0 pandas-1.3.5 pillow-9.5.0 protobuf-3.19.6 pyasn1-0.5.1 pyasn1-modules-0.3.0 pyparsing-3.1.2 pytz-2024.1 requests-2.31.0 requests-oauthlib-2.0.0 rsa-4.9 scikit-learn-1.0.2 scipy-1.7.3 smart-open-7.0.4 stellargraph-1.2.1 tensorboard-2.11.2 tensorboard-data-server-0.6.1 tensorboard-plugin-wit-1.8.1 tensorflow-2.11.0 tensorflow-estimator-2.11.0 tensorflow-intel-2.11.0 tensorflow-io-gcs-filesystem-0.31.0 termcolor-2.3.0 threadpoolctl-3.1.0 typing-extensions-4.7.1 urllib3-2.0.7 werkzeug-2.2.3 wrapt-1.16.0 zipp-3.15.0\n"
          ]
        }
      ],
      "source": [
        "import sys\n",
        "!pip install stellargraph"
      ]
    },
    {
      "cell_type": "code",
      "execution_count": 6,
      "metadata": {},
      "outputs": [
        {
          "name": "stdout",
          "output_type": "stream",
          "text": [
            "Collecting chardet\n",
            "  Downloading chardet-5.2.0-py3-none-any.whl.metadata (3.4 kB)\n",
            "Downloading chardet-5.2.0-py3-none-any.whl (199 kB)\n",
            "   ---------------------------------------- 199.4/199.4 kB 2.0 MB/s eta 0:00:00\n",
            "Installing collected packages: chardet\n",
            "Successfully installed chardet-5.2.0\n"
          ]
        }
      ],
      "source": [
        "!pip install chardet"
      ]
    },
    {
      "cell_type": "code",
      "execution_count": 7,
      "metadata": {
        "id": "z-EZ4NGqEff0",
        "nbsphinx": "hidden",
        "tags": [
          "VersionCheck"
        ]
      },
      "outputs": [],
      "source": [
        "# verify that we're using the correct version of StellarGraph for this notebook\n",
        "import stellargraph as sg\n",
        "\n",
        "try:\n",
        "    sg.utils.validate_notebook_version(\"1.2.1\")\n",
        "except AttributeError:\n",
        "    raise ValueError(\n",
        "        f\"This notebook requires StellarGraph version 1.2.1, but a different version {sg.__version__} is installed.  Please see <https://github.com/stellargraph/stellargraph/issues/1172>.\"\n",
        "    ) from None"
      ]
    },
    {
      "cell_type": "code",
      "execution_count": 8,
      "metadata": {
        "id": "FE44LaowEff1"
      },
      "outputs": [],
      "source": [
        "import numpy as np\n",
        "import pandas as pd\n",
        "import random\n",
        "import matplotlib.pyplot as plt\n",
        "from IPython.display import display, HTML\n",
        "from sklearn.manifold import TSNE\n",
        "from sklearn.model_selection import train_test_split\n",
        "from stellargraph import StellarGraph\n",
        "from stellargraph.datasets import IAEnronEmployees\n",
        "%matplotlib inline"
      ]
    },
    {
      "cell_type": "markdown",
      "metadata": {
        "id": "_7BdUZkjEff1"
      },
      "source": [
        "## Dataset\n",
        "\n",
        "The dataset used in this demo is called `enron-ia-employees`, available in Network Repository: http://networkrepository.com/ia-enron-employees.php"
      ]
    },
    {
      "cell_type": "markdown",
      "metadata": {
        "id": "2KK6iYapEff2",
        "tags": [
          "DataLoadingLinks"
        ]
      },
      "source": [
        "(See [the \"Loading from Pandas\" demo](../basics/loading-pandas.ipynb) for details on how data can be loaded.)"
      ]
    },
    {
      "cell_type": "code",
      "execution_count": 9,
      "metadata": {
        "id": "waePZTXfEff2",
        "outputId": "24bc9c45-b874-4518-baf1-33a17ab6dd11",
        "tags": [
          "DataLoading"
        ]
      },
      "outputs": [
        {
          "data": {
            "text/html": [
              "A dataset of edges that represent emails sent from one employee to another.There are 50572 edges, and each of them contains timestamp information. Edges refer to 151 unique node IDs in total.Ryan A. Rossi and Nesreen K. Ahmed “The Network Data Repository with Interactive Graph Analytics and Visualization” (2015)"
            ],
            "text/plain": [
              "<IPython.core.display.HTML object>"
            ]
          },
          "metadata": {},
          "output_type": "display_data"
        }
      ],
      "source": [
        "dataset = IAEnronEmployees()\n",
        "display(HTML(dataset.description))\n",
        "\n",
        "full_graph, edges = dataset.load()"
      ]
    },
    {
      "cell_type": "markdown",
      "metadata": {
        "id": "68HRlLoxEff3"
      },
      "source": [
        "## Split edges\n",
        "\n",
        "We want to split the edges into parts that can be used for our link prediction task:\n",
        "* the oldest edges are used to create the graph structure\n",
        "* the recent edges are what we are interested in predicting - we randomly split this part further into training and test sets."
      ]
    },
    {
      "cell_type": "code",
      "execution_count": 10,
      "metadata": {
        "id": "W6fponvbEff4",
        "outputId": "6120a8b5-233a-4703-a6f2-d25a820c40ed"
      },
      "outputs": [
        {
          "name": "stdout",
          "output_type": "stream",
          "text": [
            "Number of edges in graph: 37929\n",
            "Number of edges in training set: 9482\n",
            "Number of edges in test set: 3161\n"
          ]
        }
      ],
      "source": [
        "# subset of edges to split\n",
        "train_subset = 0.25\n",
        "test_subset = 0.25\n",
        "\n",
        "# number of edges to be kept in the graph\n",
        "num_edges_graph = int(len(edges) * (1 - train_subset))\n",
        "\n",
        "# keep older edges in graph, and predict more recent edges\n",
        "edges_graph = edges[:num_edges_graph]\n",
        "edges_other = edges[num_edges_graph:]\n",
        "\n",
        "# split recent edges further to train and test sets\n",
        "edges_train, edges_test = train_test_split(edges_other, test_size=test_subset)\n",
        "\n",
        "print(\n",
        "    f\"Number of edges in graph: {len(edges_graph)}\\n\"\n",
        "    f\"Number of edges in training set: {len(edges_train)}\\n\"\n",
        "    f\"Number of edges in test set: {len(edges_test)}\"\n",
        ")"
      ]
    },
    {
      "cell_type": "markdown",
      "metadata": {
        "id": "v_Z5XUw8Eff4"
      },
      "source": [
        "## Create a StellarGraph\n",
        "\n",
        "Now we can use the edges we've reserved for the graph to create an instance of the StellarGraph class"
      ]
    },
    {
      "cell_type": "code",
      "execution_count": 11,
      "metadata": {
        "id": "4kvholFTEff5"
      },
      "outputs": [],
      "source": [
        "graph = StellarGraph(\n",
        "    nodes=pd.DataFrame(index=full_graph.nodes()),\n",
        "    edges=edges_graph,\n",
        "    edge_weight_column=\"time\",\n",
        ")"
      ]
    },
    {
      "cell_type": "markdown",
      "metadata": {
        "id": "lLAgksN7Eff5"
      },
      "source": [
        "## Create link examples for training and testing\n",
        "\n",
        "The edges that we've reserved for the train/test sets become examples of positive links.\n",
        "\n",
        "We also need to randomly generate some examples of negative links in order to train our classifier."
      ]
    },
    {
      "cell_type": "code",
      "execution_count": 12,
      "metadata": {
        "id": "EU1OZkDwEff5"
      },
      "outputs": [],
      "source": [
        "def positive_and_negative_links(g, edges):\n",
        "    pos = list(edges[[\"source\", \"target\"]].itertuples(index=False))\n",
        "    neg = sample_negative_examples(g, pos)\n",
        "    return pos, neg\n",
        "\n",
        "def sample_negative_examples(g, positive_examples):\n",
        "    positive_set = set(positive_examples)\n",
        "\n",
        "    def valid_neg_edge(src, tgt):\n",
        "        return (\n",
        "            # no self-loops\n",
        "            src != tgt\n",
        "            and\n",
        "            # neither direction of the edge should be a positive one\n",
        "            (src, tgt) not in positive_set\n",
        "            and (tgt, src) not in positive_set\n",
        "        )\n",
        "\n",
        "    possible_neg_edges = [\n",
        "        (src, tgt) for src in g.nodes() for tgt in g.nodes() if valid_neg_edge(src, tgt)\n",
        "    ]\n",
        "    return random.sample(possible_neg_edges, k=len(positive_examples))\n",
        "\n",
        "\n",
        "pos, neg = positive_and_negative_links(graph, edges_train)\n",
        "pos_test, neg_test = positive_and_negative_links(graph, edges_test)"
      ]
    },
    {
      "cell_type": "markdown",
      "metadata": {
        "id": "uf0ZzofOEff6"
      },
      "source": [
        "It's good to verify that the data structures we've created so far from the raw data look reasonable.\n",
        "\n",
        "`StellarGraph.info` is a useful method for inspecting the graph we've created, and we can also check that the number of link examples correspond to the train/test subset values we defined earlier.\n",
        "\n",
        "And we can also check that the number of link examples correspond to the train/test subset values we defined earlier."
      ]
    },
    {
      "cell_type": "code",
      "execution_count": 13,
      "metadata": {
        "id": "68r8fX-8Eff6",
        "outputId": "60e1edf9-8385-4f59-d4f6-1980d77b7072"
      },
      "outputs": [
        {
          "name": "stdout",
          "output_type": "stream",
          "text": [
            "StellarGraph: Undirected multigraph\n",
            " Nodes: 151, Edges: 37929\n",
            "\n",
            " Node types:\n",
            "  default: [151]\n",
            "    Features: none\n",
            "    Edge types: default-default->default\n",
            "\n",
            " Edge types:\n",
            "    default-default->default: [37929]\n",
            "        Weights: range=[9.2639e+08, 1.00583e+09], mean=9.87855e+08, std=1.664e+07\n",
            "        Features: none\n",
            "Training examples: 9482 positive links, 9482 negative links\n",
            "Test examples: 3161 positive links, 3161 negative links\n"
          ]
        }
      ],
      "source": [
        "print(\n",
        "    f\"{graph.info()}\\n\"\n",
        "    f\"Training examples: {len(pos)} positive links, {len(neg)} negative links\\n\"\n",
        "    f\"Test examples: {len(pos_test)} positive links, {len(neg_test)} negative links\"\n",
        ")"
      ]
    },
    {
      "cell_type": "markdown",
      "metadata": {
        "id": "6e8blFXaEff6"
      },
      "source": [
        "## Running random walks\n",
        "Define the random walk parameters we'd like to use:\n",
        "* `num_walks_per_node` - Number of random walks to perform per starting node.\n",
        "* `walk_length` - Length of each random walk. For temporal walks, this is the *maximum* length of a walk, since walks may end up being shorter when there are not enough time respecting edges to traverse.\n",
        "* `context_window_size` - Size of the context window used to train the Word2Vec model."
      ]
    },
    {
      "cell_type": "code",
      "execution_count": 14,
      "metadata": {
        "id": "4MXAdXRFEff6",
        "tags": [
          "parameters"
        ]
      },
      "outputs": [],
      "source": [
        "num_walks_per_node = 10\n",
        "walk_length = 80\n",
        "context_window_size = 10"
      ]
    },
    {
      "cell_type": "markdown",
      "metadata": {
        "id": "T8lVZx1kEff7"
      },
      "source": [
        "We try to keep the setup comparable between the use of temporal and biased (static) random walks. For temporal walks, the input parameter is defined in terms of the total number of context windows you are interested in obtaining, which differs from the traditional approach of specifying the number of walks to run per node in the graph. We calculate the number of context windows we need in terms of the traditional parameters as:"
      ]
    },
    {
      "cell_type": "code",
      "execution_count": 15,
      "metadata": {
        "id": "xawY0u7UEff7"
      },
      "outputs": [],
      "source": [
        "num_cw = len(graph.nodes()) * num_walks_per_node * (walk_length - context_window_size + 1)"
      ]
    },
    {
      "cell_type": "markdown",
      "metadata": {
        "id": "X1DghDAUEff7"
      },
      "source": [
        "We're now ready to do the walks"
      ]
    },
    {
      "cell_type": "code",
      "execution_count": 16,
      "metadata": {
        "id": "ExcExEC6Eff7",
        "outputId": "dd8d17a5-ffc1-4780-8d6b-b4912fcf0fef"
      },
      "outputs": [
        {
          "name": "stdout",
          "output_type": "stream",
          "text": [
            "Number of temporal random walks: 1812\n"
          ]
        }
      ],
      "source": [
        "from stellargraph.data import TemporalRandomWalk\n",
        "\n",
        "temporal_rw = TemporalRandomWalk(graph)\n",
        "temporal_walks = temporal_rw.run(\n",
        "    num_cw=num_cw,\n",
        "    cw_size=context_window_size,\n",
        "    max_walk_length=walk_length,\n",
        "    walk_bias=\"exponential\",\n",
        ")\n",
        "\n",
        "print(\"Number of temporal random walks: {}\".format(len(temporal_walks)))"
      ]
    },
    {
      "cell_type": "code",
      "execution_count": 17,
      "metadata": {
        "id": "bywAUQKwEff7",
        "outputId": "7654575b-3613-435c-c6f2-e8acca872949"
      },
      "outputs": [
        {
          "name": "stdout",
          "output_type": "stream",
          "text": [
            "Number of static random walks: 1510\n"
          ]
        }
      ],
      "source": [
        "from stellargraph.data import BiasedRandomWalk\n",
        "\n",
        "static_rw = BiasedRandomWalk(graph)\n",
        "static_walks = static_rw.run(\n",
        "    nodes=graph.nodes(), n=num_walks_per_node, length=walk_length\n",
        ")\n",
        "\n",
        "print(\"Number of static random walks: {}\".format(len(static_walks)))"
      ]
    },
    {
      "cell_type": "markdown",
      "metadata": {
        "id": "zjclh8WPEff8"
      },
      "source": [
        "Using the random walks obtained, we can train our Word2Vec models to generate node embeddings"
      ]
    },
    {
      "cell_type": "code",
      "execution_count": 21,
      "metadata": {
        "id": "nBdNnvtuEff8"
      },
      "outputs": [],
      "source": [
        "from gensim.models import Word2Vec\n",
        "\n",
        "embedding_size = 128\n",
        "temporal_model = Word2Vec(\n",
        "    temporal_walks,\n",
        "    vector_size=embedding_size,\n",
        "    window=context_window_size,\n",
        "    min_count=0,\n",
        "    sg=1,\n",
        "    workers=2,\n",
        "    epochs=1,\n",
        ")\n",
        "static_model = Word2Vec(\n",
        "    static_walks,\n",
        "    vector_size=embedding_size,\n",
        "    window=context_window_size,\n",
        "    min_count=0,\n",
        "    sg=1,\n",
        "    workers=2,\n",
        "    epochs=1,\n",
        ")"
      ]
    },
    {
      "cell_type": "markdown",
      "metadata": {
        "id": "4w4ZTqWjEff8"
      },
      "source": [
        "For convenience, we can use the trained Word2Vec models to define helper functions that transform a node ID into a node embedding.\n",
        "\n",
        "NOTE: Temporal walks may not generate an embedding for every node in the graph; if there's no temporal walks that involve a particular node or they are all too short, the node won't appear in any context window. We handle this by using zeros as embeddings for such nodes to indicate that they are uninformative."
      ]
    },
    {
      "cell_type": "code",
      "execution_count": 22,
      "metadata": {
        "id": "CnUjtBzsEff8"
      },
      "outputs": [],
      "source": [
        "unseen_node_embedding = np.zeros(embedding_size)\n",
        "\n",
        "\n",
        "def temporal_embedding(u):\n",
        "    try:\n",
        "        return temporal_model.wv[u]\n",
        "    except KeyError:\n",
        "        return unseen_node_embedding\n",
        "\n",
        "\n",
        "def static_embedding(u):\n",
        "    return static_model.wv[u]"
      ]
    },
    {
      "cell_type": "markdown",
      "metadata": {
        "id": "llFrv_0PEff8"
      },
      "source": [
        "## Node Embedding Visualisation\n",
        "\n",
        "For visualisation of embeddings, we'll first define a helper function that we can also use later to show the TSNE visualisation."
      ]
    },
    {
      "cell_type": "code",
      "execution_count": 23,
      "metadata": {
        "id": "XQVjDkIgEff8"
      },
      "outputs": [],
      "source": [
        "def plot_tsne(title, x, y=None):\n",
        "    tsne = TSNE(n_components=2)\n",
        "    x_t = tsne.fit_transform(x)\n",
        "\n",
        "    plt.figure(figsize=(7, 7))\n",
        "    plt.title(title)\n",
        "    alpha = 0.7 if y is None else 0.5\n",
        "\n",
        "    scatter = plt.scatter(x_t[:, 0], x_t[:, 1], c=y, cmap=\"jet\", alpha=alpha)\n",
        "    if y is not None:\n",
        "        plt.legend(*scatter.legend_elements(), loc=\"lower left\", title=\"Classes\")"
      ]
    },
    {
      "cell_type": "markdown",
      "metadata": {
        "id": "jc_hcop4Eff9"
      },
      "source": [
        "We can visualise the node embeddings to take a glance at how the temporal walks have resulted in groups of nodes being clustered together"
      ]
    },
    {
      "cell_type": "code",
      "execution_count": 24,
      "metadata": {
        "id": "jB011TpKEff9",
        "outputId": "6c19212a-a870-4308-f1e7-f18830d00a5e"
      },
      "outputs": [
        {
          "name": "stderr",
          "output_type": "stream",
          "text": [
            "c:\\Users\\monis\\anaconda3\\envs\\myenv\\lib\\site-packages\\sklearn\\manifold\\_t_sne.py:783: FutureWarning: The default initialization in TSNE will change from 'random' to 'pca' in 1.2.\n",
            "  FutureWarning,\n",
            "c:\\Users\\monis\\anaconda3\\envs\\myenv\\lib\\site-packages\\sklearn\\manifold\\_t_sne.py:793: FutureWarning: The default learning rate in TSNE will change from 200.0 to 'auto' in 1.2.\n",
            "  FutureWarning,\n",
            "c:\\Users\\monis\\anaconda3\\envs\\myenv\\lib\\site-packages\\sklearn\\manifold\\_t_sne.py:783: FutureWarning: The default initialization in TSNE will change from 'random' to 'pca' in 1.2.\n",
            "  FutureWarning,\n",
            "c:\\Users\\monis\\anaconda3\\envs\\myenv\\lib\\site-packages\\sklearn\\manifold\\_t_sne.py:793: FutureWarning: The default learning rate in TSNE will change from 200.0 to 'auto' in 1.2.\n",
            "  FutureWarning,\n"
          ]
        },
        {
          "data": {
            "image/png": "[encoded data removed]",
            "text/plain": [
              "<Figure size 700x700 with 1 Axes>"
            ]
          },
          "metadata": {},
          "output_type": "display_data"
        },
        {
          "data": {
            "image/png": "[encoded data removed]",
            "text/plain": [
              "<Figure size 700x700 with 1 Axes>"
            ]
          },
          "metadata": {},
          "output_type": "display_data"
        }
      ],
      "source": [
        "temporal_node_embeddings = temporal_model.wv.vectors\n",
        "static_node_embeddings = static_model.wv.vectors\n",
        "plot_tsne(\"TSNE visualisation of temporal node embeddings\", temporal_node_embeddings)\n",
        "plot_tsne(\"TSNE visualisation of static node embeddings\", static_node_embeddings)"
      ]
    },
    {
      "cell_type": "markdown",
      "metadata": {
        "id": "SEnwbvyWEff9"
      },
      "source": [
        "## Link Prediction using Node Embeddings\n",
        "\n",
        "The node embeddings we've generated can now be used as input for a link prediction task. The reported AUC scores from the reference paper for this dataset are:\n",
        "\n",
        "* Node2Vec: 0.759\n",
        "* CTDNE: 0.777\n",
        "\n",
        "It turns out both the Node2Vec and CTDNE in this notebook perform much better than the paper. We may not have exactly reproduced the conditions under which the paper was testing.\n",
        "\n",
        "Below are a set of helper functions we can use to train and evaluate a link prediction classifier. The rest of the notebook will use the binary operator defined in the cell below.\n",
        "\n",
        "Other commonly used binary operators are `hadamard`, `average`, and `L1` operators. Alternatively, other user defined function taking two node embeddings to produce a link embedding could be used, but may affect convergence of the classifier model."
      ]
    },
    {
      "cell_type": "code",
      "execution_count": 25,
      "metadata": {
        "id": "e2e-ZyYWEff9"
      },
      "outputs": [],
      "source": [
        "def operator_l2(u, v):\n",
        "    return (u - v) ** 2\n",
        "\n",
        "\n",
        "binary_operator = operator_l2"
      ]
    },
    {
      "cell_type": "code",
      "execution_count": 26,
      "metadata": {
        "id": "UGBSlmHhEff9"
      },
      "outputs": [],
      "source": [
        "from sklearn.pipeline import Pipeline\n",
        "from sklearn.linear_model import LogisticRegressionCV\n",
        "from sklearn.metrics import roc_auc_score\n",
        "from sklearn.preprocessing import StandardScaler\n",
        "\n",
        "\n",
        "def link_examples_to_features(link_examples, transform_node):\n",
        "    op_func = (\n",
        "        operator_func[binary_operator]\n",
        "        if isinstance(binary_operator, str)\n",
        "        else binary_operator\n",
        "    )\n",
        "    return [\n",
        "        op_func(transform_node(src), transform_node(dst)) for src, dst in link_examples\n",
        "    ]\n",
        "\n",
        "\n",
        "def link_prediction_classifier(max_iter=2000):\n",
        "    lr_clf = LogisticRegressionCV(Cs=10, cv=10, scoring=\"roc_auc\", max_iter=max_iter)\n",
        "    return Pipeline(steps=[(\"sc\", StandardScaler()), (\"clf\", lr_clf)])\n",
        "\n",
        "\n",
        "def evaluate_roc_auc(clf, link_features, link_labels):\n",
        "    predicted = clf.predict_proba(link_features)\n",
        "\n",
        "    # check which class corresponds to positive links\n",
        "    positive_column = list(clf.classes_).index(1)\n",
        "    return roc_auc_score(link_labels, predicted[:, positive_column])"
      ]
    },
    {
      "cell_type": "markdown",
      "metadata": {
        "id": "XtFlIKyvEff-"
      },
      "source": [
        "We'll create some positive and negative examples to train our classifier on. The negative examples can be randomly generated from the available nodes in the graph."
      ]
    },
    {
      "cell_type": "code",
      "execution_count": 27,
      "metadata": {
        "id": "vAioZH6MEff-"
      },
      "outputs": [],
      "source": [
        "def labelled_links(positive_examples, negative_examples):\n",
        "    return (\n",
        "        positive_examples + negative_examples,\n",
        "        np.repeat([1, 0], [len(positive_examples), len(negative_examples)]),\n",
        "    )\n",
        "\n",
        "\n",
        "link_examples, link_labels = labelled_links(pos, neg)\n",
        "link_examples_test, link_labels_test = labelled_links(pos_test, neg_test)"
      ]
    },
    {
      "cell_type": "markdown",
      "metadata": {
        "id": "8iEmjt2GEff-"
      },
      "source": [
        "### Link prediction classifier using temporal embeddings"
      ]
    },
    {
      "cell_type": "code",
      "execution_count": 28,
      "metadata": {
        "id": "hKFdH_8nEff-",
        "outputId": "8fe5c6b2-43c4-46d9-bd27-aeea2dd7b915"
      },
      "outputs": [
        {
          "name": "stdout",
          "output_type": "stream",
          "text": [
            "Score (ROC AUC): 0.95\n"
          ]
        }
      ],
      "source": [
        "temporal_clf = link_prediction_classifier()\n",
        "temporal_link_features = link_examples_to_features(link_examples, temporal_embedding)\n",
        "temporal_link_features_test = link_examples_to_features(\n",
        "    link_examples_test, temporal_embedding\n",
        ")\n",
        "temporal_clf.fit(temporal_link_features, link_labels)\n",
        "temporal_score = evaluate_roc_auc(\n",
        "    temporal_clf, temporal_link_features_test, link_labels_test\n",
        ")\n",
        "\n",
        "print(f\"Score (ROC AUC): {temporal_score:.2f}\")"
      ]
    },
    {
      "cell_type": "markdown",
      "metadata": {
        "id": "L3a4HbckEfgE"
      },
      "source": [
        "### Link prediction classifier using static embeddings"
      ]
    },
    {
      "cell_type": "code",
      "execution_count": 29,
      "metadata": {
        "id": "0oZJ27naEfgE",
        "outputId": "e9cd9d05-2d3c-4a65-88d9-c294b2cfca52"
      },
      "outputs": [
        {
          "name": "stdout",
          "output_type": "stream",
          "text": [
            "Score (ROC AUC): 0.96\n"
          ]
        }
      ],
      "source": [
        "static_clf = link_prediction_classifier()\n",
        "static_link_features = link_examples_to_features(link_examples, static_embedding)\n",
        "static_link_features_test = link_examples_to_features(\n",
        "    link_examples_test, static_embedding\n",
        ")\n",
        "static_clf.fit(static_link_features, link_labels)\n",
        "static_score = evaluate_roc_auc(static_clf, static_link_features_test, link_labels_test)\n",
        "\n",
        "print(f\"Score (ROC AUC): {static_score:.2f}\")"
      ]
    },
    {
      "cell_type": "markdown",
      "metadata": {
        "id": "pLPd7w2-EfgF"
      },
      "source": [
        "## Link Embedding Visualisation\n",
        "\n",
        "As with the nodes, we can visualise the embeddings for each link to see how the positive links (with class `1` ) are reasonably well clustered and similarly for the false links (with class `0` )."
      ]
    },
    {
      "cell_type": "code",
      "execution_count": 30,
      "metadata": {
        "id": "klLGdLcoEfgF",
        "outputId": "51d61f8a-25c9-4e38-ea32-5139501f317e"
      },
      "outputs": [
        {
          "name": "stderr",
          "output_type": "stream",
          "text": [
            "c:\\Users\\monis\\anaconda3\\envs\\myenv\\lib\\site-packages\\sklearn\\manifold\\_t_sne.py:783: FutureWarning: The default initialization in TSNE will change from 'random' to 'pca' in 1.2.\n",
            "  FutureWarning,\n",
            "c:\\Users\\monis\\anaconda3\\envs\\myenv\\lib\\site-packages\\sklearn\\manifold\\_t_sne.py:793: FutureWarning: The default learning rate in TSNE will change from 200.0 to 'auto' in 1.2.\n",
            "  FutureWarning,\n"
          ]
        },
        {
          "name": "stderr",
          "output_type": "stream",
          "text": [
            "c:\\Users\\monis\\anaconda3\\envs\\myenv\\lib\\site-packages\\sklearn\\manifold\\_t_sne.py:783: FutureWarning: The default initialization in TSNE will change from 'random' to 'pca' in 1.2.\n",
            "  FutureWarning,\n",
            "c:\\Users\\monis\\anaconda3\\envs\\myenv\\lib\\site-packages\\sklearn\\manifold\\_t_sne.py:793: FutureWarning: The default learning rate in TSNE will change from 200.0 to 'auto' in 1.2.\n",
            "  FutureWarning,\n"
          ]
        }
      ],
      "source": [
        "plot_tsne(\"temporal link embeddings\", temporal_link_features_test, link_labels_test)\n",
        "plot_tsne(\"static link embeddings\", static_link_features_test, link_labels_test)"
      ]
    },
    {
      "cell_type": "markdown",
      "metadata": {
        "id": "gztKYI9BEfgF",
        "nbsphinx": "hidden",
        "tags": [
          "CloudRunner"
        ]
      },
      "source": [
        "<table><tr><td>Run the latest release of this notebook:</td><td><a href=\"https://mybinder.org/v2/gh/stellargraph/stellargraph/master?urlpath=lab/tree/demos/link-prediction/ctdne-link-prediction.ipynb\" alt=\"Open In Binder\" target=\"_parent\"><img src=\"https://mybinder.org/badge_logo.svg\"/></a></td><td><a href=\"https://colab.research.google.com/github/stellargraph/stellargraph/blob/master/demos/link-prediction/ctdne-link-prediction.ipynb\" alt=\"Open In Colab\" target=\"_parent\"><img src=\"https://colab.research.google.com/assets/colab-badge.svg\"/></a></td></tr></table>"
      ]
    }
  ],
  "metadata": {
    "colab": {
      "provenance": []
    },
    "kernelspec": {
      "display_name": "Python 3",
      "language": "python",
      "name": "python3"
    },
    "language_info": {
      "codemirror_mode": {
        "name": "ipython",
        "version": 3
      },
      "file_extension": ".py",
      "mimetype": "text/x-python",
      "name": "python",
      "nbconvert_exporter": "python",
      "pygments_lexer": "ipython3",
      "version": "3.7.12"
    }
  },
  "nbformat": 4,
  "nbformat_minor": 0
}
